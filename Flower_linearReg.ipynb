{
 "cells": [
  {
   "cell_type": "code",
   "execution_count": 3,
   "metadata": {},
   "outputs": [],
   "source": [
    "%matplotlib inline"
   ]
  },
  {
   "cell_type": "code",
   "execution_count": 5,
   "metadata": {},
   "outputs": [],
   "source": [
    "from matplotlib import pyplot as plt\n",
    "import numpy as np"
   ]
  },
  {
   "cell_type": "code",
   "execution_count": 6,
   "metadata": {},
   "outputs": [],
   "source": [
    "#length, width, type b=0, r=1\n",
    "data = [[3,   1.5, 1],\n",
    "        [2,   1,   0],\n",
    "        [4,   1.5, 1],\n",
    "        [3,   1,   0],\n",
    "        [3.5, 0.5, 1],\n",
    "        [2,   0.5, 0],\n",
    "        [5.5, 1,   1],\n",
    "        [1,   1,   0]]\n",
    "\n",
    "mystery_flower = [4.5, 1]"
   ]
  },
  {
   "cell_type": "code",
   "execution_count": 15,
   "metadata": {},
   "outputs": [],
   "source": []
  },
  {
   "cell_type": "code",
   "execution_count": 28,
   "metadata": {},
   "outputs": [],
   "source": [
    "def sigmoid(x):\n",
    "    return 1/(1 + np.exp(-x))\n",
    "\n",
    "def sigmoid_p(x):\n",
    "    return sigmoid(x)*(1 - sigmoid(x))"
   ]
  },
  {
   "cell_type": "code",
   "execution_count": 39,
   "metadata": {},
   "outputs": [],
   "source": [
    "x = np.linspace(-5, 5, 100)\n",
    "y = sigmoid_p(x)\n"
   ]
  },
  {
   "cell_type": "code",
   "execution_count": 43,
   "metadata": {},
   "outputs": [
    {
     "data": {
      "image/png": "[encoded data removed]",
      "text/plain": [
       "<Figure size 432x288 with 1 Axes>"
      ]
     },
     "metadata": {
      "needs_background": "light"
     },
     "output_type": "display_data"
    }
   ],
   "source": [
    "plt.axis([0,6,0,6])\n",
    "plt.grid()\n",
    "for i in range(len(data)):\n",
    "    point = data[i]\n",
    "    color = 'b'\n",
    "    if point[2] == 1:\n",
    "        color = 'r'\n",
    "    plt.scatter(point[0],point[1],c=color)"
   ]
  },
  {
   "cell_type": "code",
   "execution_count": 48,
   "metadata": {},
   "outputs": [
    {
     "data": {
      "text/plain": [
       "[<matplotlib.lines.Line2D at 0x231dcc38240>]"
      ]
     },
     "execution_count": 48,
     "metadata": {},
     "output_type": "execute_result"
    },
    {
     "data": {
      "image/png": "[encoded data removed]",
      "text/plain": [
       "<Figure size 432x288 with 1 Axes>"
      ]
     },
     "metadata": {
      "needs_background": "light"
     },
     "output_type": "display_data"
    }
   ],
   "source": [
    "w1 = np.random.randn()\n",
    "w2 = np.random.randn()\n",
    "b = np.random.randn()\n",
    "lr = 0.2\n",
    "cost_final=[]\n",
    "for i in range(10000):\n",
    "    ri = np.random.randint(len(data))\n",
    "    point = data[ri]\n",
    "    z = point[0]*w1 + point[1]*w2 + b\n",
    "    pred = sigmoid(z)\n",
    "    diff = pred - point[2]\n",
    "    cost = np.square(diff)\n",
    "    dcost_dw1 = 2*(diff)*sigmoid_p(z)*point[0]\n",
    "    dcost_dw2 = 2*(diff)*sigmoid_p(z)*point[1]\n",
    "    dcost_db = 2*(diff)*sigmoid_p(z)*1\n",
    "    w1 = w1 - lr*dcost_dw1\n",
    "    w2 = w2 - lr*dcost_dw2\n",
    "    b = b - lr*dcost_db\n",
    "    cost_sum = 0\n",
    "    if (i%1000) == 0:\n",
    "        for i in range(len(data)):\n",
    "            temp = w1*data[i][0] + w2*data[i][1] + b\n",
    "            cost_sum += np.square(sigmoid(temp) - data[i][2])\n",
    "        cost_avg = cost_sum/len(data)\n",
    "        cost_final.append(cost_avg)\n",
    "\n",
    "plt.plot(cost_final)"
   ]
  },
  {
   "cell_type": "code",
   "execution_count": 51,
   "metadata": {},
   "outputs": [
    {
     "name": "stdout",
     "output_type": "stream",
     "text": [
      "0.9959428235849243\n"
     ]
    }
   ],
   "source": [
    "ans = w1*mystery_flower[0] + w2*mystery_flower[1] + b\n",
    "print(sigmoid(ans))"
   ]
  }
 ],
 "metadata": {
  "kernelspec": {
   "display_name": "Python 3",
   "language": "python",
   "name": "python3"
  },
  "language_info": {
   "codemirror_mode": {
    "name": "ipython",
    "version": 3
   },
   "file_extension": ".py",
   "mimetype": "text/x-python",
   "name": "python",
   "nbconvert_exporter": "python",
   "pygments_lexer": "ipython3",
   "version": "3.7.3"
  }
 },
 "nbformat": 4,
 "nbformat_minor": 2
}
